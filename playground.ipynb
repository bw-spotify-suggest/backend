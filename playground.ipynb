{
 "cells": [
  {
   "cell_type": "code",
   "execution_count": 227,
   "metadata": {
    "ExecuteTime": {
     "end_time": "2021-03-31T08:12:58.543120Z",
     "start_time": "2021-03-31T08:12:58.538319Z"
    },
    "colab": {},
    "colab_type": "code",
    "id": "Pr5hpnCv5qnZ"
   },
   "outputs": [],
   "source": [
    "from sklearn.neighbors import NearestNeighbors, NeighborhoodComponentsAnalysis\n",
    "from sklearn.preprocessing import StandardScaler\n",
    "import pandas as pd\n",
    "import numpy as np\n",
    "import pickle\n",
    "import re"
   ]
  },
  {
   "cell_type": "code",
   "execution_count": 231,
   "metadata": {
    "ExecuteTime": {
     "end_time": "2021-03-31T08:22:21.336840Z",
     "start_time": "2021-03-31T08:22:21.324364Z"
    },
    "code_folding": [
     39
    ],
    "colab": {},
    "colab_type": "code",
    "id": "SSyUJuJ35vtP"
   },
   "outputs": [],
   "source": [
    "def load_clean_data():\n",
    "    \"\"\"\n",
    "    Loads data and performs basic cleaning / feature engineering.\n",
    "    Returns one raw DataFrame, and one cleaned DataFrame.\n",
    "    \n",
    "    Example\n",
    "    -------\n",
    "    > raw, clean = load_clean_data()\n",
    "    > type(raw), raw.shape, type(clean), df.clean\n",
    "      (pandas.core.frame.DataFrame,\n",
    "      (130326, 17),\n",
    "      pandas.core.frame.DataFrame,\n",
    "      (130326, 15))\n",
    "    \"\"\"\n",
    "    def clean_text(doc):\n",
    "        multi_ws = '[ ]{2,}'\n",
    "        non_alpha = '[^a-zA-Z]'\n",
    "        empty_start = '^ '\n",
    "        empty_end = ' $'\n",
    "\n",
    "        doc = re.sub(non_alpha, ' ', doc)\n",
    "        doc = re.sub(multi_ws, ' ', doc)\n",
    "        doc = re.sub(empty_start, '', doc)\n",
    "        doc = re.sub(empty_end, '', doc)\n",
    "        return doc\n",
    "    \n",
    "    data = pd.read_csv(\"Data/spotify2021.csv\")\n",
    "    data['artists'] = data['artists'].apply(clean_text)\n",
    "    data['name'] = data['name'].apply(clean_text)\n",
    "\n",
    "    df = data.drop(columns=['artists', 'name', 'year', 'release_date', 'duration_ms', 'popularity'])\n",
    "    df = df[~df.id.duplicated(keep='first')]\n",
    "\n",
    "    to_bins = ['acousticness', 'danceability', 'energy', 'instrumentalness', 'valence']\n",
    "    \n",
    "    for col in to_bins:\n",
    "        df[col] = round(df[col] * 4)\n",
    "    \n",
    "    def is_live(n):\n",
    "        return (1 if n > 0.75 else 0)\n",
    "    \n",
    "    def round_10(n):\n",
    "        a = (n // 10) * 10\n",
    "        b = a + 10\n",
    "        return (b if n - a > b - n else a)\n",
    "    \n",
    "    df['tempo'] = df['tempo'].apply(round_10)\n",
    "    df['liveness'] = df['liveness'].apply(is_live)\n",
    "    df['speechiness'] = round(df['speechiness'] * 10 / 3)\n",
    "    df['loudness'] = round(df['loudness'])\n",
    "\n",
    "    return data, df\n",
    "\n",
    "def suggest(song_id=None, n_suggestions=1, output_format='records'):\n",
    "    \"\"\"\n",
    "    Suggests Spotify song(s) given one song id.\n",
    "    \n",
    "    Parameters\n",
    "    ----------\n",
    "    song_id: str\n",
    "        Song id from which to base suggestions\n",
    "    \n",
    "    n_suggestions: int {1, 3, 5, 10, 15, 20}, default 1\n",
    "        Number of songs to suggest\n",
    "\n",
    "    output_format: str, default 'records'\n",
    "        Output format of the JSON string:\n",
    "            ‘split’ : dict like {‘index’ -> [index], ‘columns’ -> [columns], ‘data’ -> [values]}\n",
    "            ‘records’ : list like [{column -> value}, … , {column -> value}]\n",
    "            ‘index’ : dict like {index -> {column -> value}}\n",
    "            ‘columns’ : dict like {column -> {index -> value}}\n",
    "            ‘values’ : just the values array\n",
    "            ‘table’ : dict like {‘schema’: {schema}, ‘data’: {data}}\n",
    "        Note: Directly passed to pandas.DataFrame.to_json(orient=output_format) \n",
    "    \n",
    "    Example\n",
    "    -------\n",
    "    > example = df[df.track_id == '6Wosx2euFPMT14UXiWudMy']\n",
    "    > example.artist_name\n",
    "      R3HAB\n",
    "    > example.track_name\n",
    "      Radio Silence\n",
    "    > suggestion = suggest('6Wosx2euFPMT14UXiWudMy')\n",
    "    > suggestion\n",
    "      '[{\"artist_name\":\"Anderson .Paak\",\n",
    "         \"track_id\":\"7GvKDZP30uHX0p8y3Kn6BM\",\n",
    "         \"track_name\":\"Brother\\'s Keeper (feat. Pusha T)\"}]'\n",
    "    \"\"\"\n",
    "    song = df[df.id == song_id].drop(columns='id').values\n",
    "\n",
    "    loaded_model = pickle.load(open(f'./model/model_{n_suggestions}_suggestions.sav', 'rb'))\n",
    "\n",
    "    output = data.iloc[loaded_model.kneighbors(song)[1][0][1:]]\n",
    "\n",
    "    drop_cols = ['acousticness', 'danceability', 'duration_ms', 'energy',\n",
    "                 'explicit', 'instrumentalness', 'key', 'liveness', 'loudness',\n",
    "                 'mode', 'popularity', 'release_date', 'speechiness', 'tempo',\n",
    "                 'valence', 'year']\n",
    "    \n",
    "    suggestion = output.drop(columns = drop_cols).to_json(orient=output_format)\n",
    "\n",
    "    return suggestion"
   ]
  },
  {
   "cell_type": "code",
   "execution_count": 232,
   "metadata": {
    "ExecuteTime": {
     "end_time": "2021-03-31T08:22:26.598244Z",
     "start_time": "2021-03-31T08:22:22.625636Z"
    }
   },
   "outputs": [
    {
     "data": {
      "text/html": [
       "<div>\n",
       "<style scoped>\n",
       "    .dataframe tbody tr th:only-of-type {\n",
       "        vertical-align: middle;\n",
       "    }\n",
       "\n",
       "    .dataframe tbody tr th {\n",
       "        vertical-align: top;\n",
       "    }\n",
       "\n",
       "    .dataframe thead th {\n",
       "        text-align: right;\n",
       "    }\n",
       "</style>\n",
       "<table border=\"1\" class=\"dataframe\">\n",
       "  <thead>\n",
       "    <tr style=\"text-align: right;\">\n",
       "      <th></th>\n",
       "      <th>acousticness</th>\n",
       "      <th>danceability</th>\n",
       "      <th>energy</th>\n",
       "      <th>explicit</th>\n",
       "      <th>id</th>\n",
       "      <th>instrumentalness</th>\n",
       "      <th>key</th>\n",
       "      <th>liveness</th>\n",
       "      <th>loudness</th>\n",
       "      <th>mode</th>\n",
       "      <th>speechiness</th>\n",
       "      <th>tempo</th>\n",
       "      <th>valence</th>\n",
       "    </tr>\n",
       "  </thead>\n",
       "  <tbody>\n",
       "    <tr>\n",
       "      <th>0</th>\n",
       "      <td>4.0</td>\n",
       "      <td>2.0</td>\n",
       "      <td>1.0</td>\n",
       "      <td>0</td>\n",
       "      <td>0cS0A1fUEUd1EW3FcF8AEI</td>\n",
       "      <td>0.0</td>\n",
       "      <td>5</td>\n",
       "      <td>0</td>\n",
       "      <td>-13.0</td>\n",
       "      <td>0</td>\n",
       "      <td>0.0</td>\n",
       "      <td>150.0</td>\n",
       "      <td>3.0</td>\n",
       "    </tr>\n",
       "    <tr>\n",
       "      <th>1</th>\n",
       "      <td>3.0</td>\n",
       "      <td>3.0</td>\n",
       "      <td>2.0</td>\n",
       "      <td>0</td>\n",
       "      <td>0hbkKFIJm7Z05H8Zl9w30f</td>\n",
       "      <td>0.0</td>\n",
       "      <td>5</td>\n",
       "      <td>0</td>\n",
       "      <td>-7.0</td>\n",
       "      <td>0</td>\n",
       "      <td>0.0</td>\n",
       "      <td>90.0</td>\n",
       "      <td>4.0</td>\n",
       "    </tr>\n",
       "    <tr>\n",
       "      <th>2</th>\n",
       "      <td>4.0</td>\n",
       "      <td>3.0</td>\n",
       "      <td>1.0</td>\n",
       "      <td>0</td>\n",
       "      <td>11m7laMUgmOKqI3oYzuhne</td>\n",
       "      <td>0.0</td>\n",
       "      <td>0</td>\n",
       "      <td>0</td>\n",
       "      <td>-12.0</td>\n",
       "      <td>1</td>\n",
       "      <td>1.0</td>\n",
       "      <td>100.0</td>\n",
       "      <td>3.0</td>\n",
       "    </tr>\n",
       "    <tr>\n",
       "      <th>3</th>\n",
       "      <td>0.0</td>\n",
       "      <td>3.0</td>\n",
       "      <td>3.0</td>\n",
       "      <td>0</td>\n",
       "      <td>19Lc5SfJJ5O1oaxY0fpwfh</td>\n",
       "      <td>3.0</td>\n",
       "      <td>2</td>\n",
       "      <td>0</td>\n",
       "      <td>-7.0</td>\n",
       "      <td>1</td>\n",
       "      <td>0.0</td>\n",
       "      <td>130.0</td>\n",
       "      <td>0.0</td>\n",
       "    </tr>\n",
       "    <tr>\n",
       "      <th>4</th>\n",
       "      <td>1.0</td>\n",
       "      <td>3.0</td>\n",
       "      <td>3.0</td>\n",
       "      <td>1</td>\n",
       "      <td>2hJjbsLCytGsnAHfdsLejp</td>\n",
       "      <td>0.0</td>\n",
       "      <td>10</td>\n",
       "      <td>0</td>\n",
       "      <td>-6.0</td>\n",
       "      <td>0</td>\n",
       "      <td>0.0</td>\n",
       "      <td>120.0</td>\n",
       "      <td>1.0</td>\n",
       "    </tr>\n",
       "  </tbody>\n",
       "</table>\n",
       "</div>"
      ],
      "text/plain": [
       "   acousticness  danceability  energy  explicit                      id  \\\n",
       "0           4.0           2.0     1.0         0  0cS0A1fUEUd1EW3FcF8AEI   \n",
       "1           3.0           3.0     2.0         0  0hbkKFIJm7Z05H8Zl9w30f   \n",
       "2           4.0           3.0     1.0         0  11m7laMUgmOKqI3oYzuhne   \n",
       "3           0.0           3.0     3.0         0  19Lc5SfJJ5O1oaxY0fpwfh   \n",
       "4           1.0           3.0     3.0         1  2hJjbsLCytGsnAHfdsLejp   \n",
       "\n",
       "   instrumentalness  key  liveness  loudness  mode  speechiness  tempo  \\\n",
       "0               0.0    5         0     -13.0     0          0.0  150.0   \n",
       "1               0.0    5         0      -7.0     0          0.0   90.0   \n",
       "2               0.0    0         0     -12.0     1          1.0  100.0   \n",
       "3               3.0    2         0      -7.0     1          0.0  130.0   \n",
       "4               0.0   10         0      -6.0     0          0.0  120.0   \n",
       "\n",
       "   valence  \n",
       "0      3.0  \n",
       "1      4.0  \n",
       "2      3.0  \n",
       "3      0.0  \n",
       "4      1.0  "
      ]
     },
     "execution_count": 232,
     "metadata": {},
     "output_type": "execute_result"
    }
   ],
   "source": [
    "data, df = load_clean_data()\n",
    "df.head()"
   ]
  },
  {
   "cell_type": "code",
   "execution_count": 233,
   "metadata": {
    "ExecuteTime": {
     "end_time": "2021-03-31T08:22:26.690870Z",
     "start_time": "2021-03-31T08:22:26.602116Z"
    }
   },
   "outputs": [
    {
     "data": {
      "text/plain": [
       "'[{\"artists\":\"Joni Mitchell\",\"id\":\"00xemFYjQNRpOlPhVaLAHa\",\"name\":\"Urge For Going Live at The nd Fret Philadelphia PA\"},{\"artists\":\"Carmen Miranda\",\"id\":\"2heQBczLrbtAgOtkDk831k\",\"name\":\"Samba Rasgado\"},{\"artists\":\"Amalia Mendoza\",\"id\":\"4QJsxMItrRbvn05gGuf0CZ\",\"name\":\"chame a M la Culpa\"}]'"
      ]
     },
     "execution_count": 233,
     "metadata": {},
     "output_type": "execute_result"
    }
   ],
   "source": [
    "suggest('3ajZwXiT7qpanVm5DcvcQF', 3)"
   ]
  },
  {
   "cell_type": "code",
   "execution_count": 235,
   "metadata": {
    "ExecuteTime": {
     "end_time": "2021-03-31T08:24:22.284382Z",
     "start_time": "2021-03-31T08:24:22.033529Z"
    },
    "code_folding": []
   },
   "outputs": [],
   "source": [
    "# create and save models\n",
    "num = [1, 3, 5, 10, 15, 20]\n",
    "\n",
    "for i in num:\n",
    "    nn = NearestNeighbors(algorithm='brute', n_neighbors=i+1)\n",
    "    model = nn.fit(df.drop(columns='id'))\n",
    "    pickle.dump(model, open(f'model_{i}_suggestions.sav', 'wb'))"
   ]
  },
  {
   "cell_type": "code",
   "execution_count": null,
   "metadata": {},
   "outputs": [],
   "source": []
  },
  {
   "cell_type": "code",
   "execution_count": null,
   "metadata": {},
   "outputs": [],
   "source": []
  },
  {
   "cell_type": "code",
   "execution_count": null,
   "metadata": {},
   "outputs": [],
   "source": []
  },
  {
   "cell_type": "code",
   "execution_count": null,
   "metadata": {
    "ExecuteTime": {
     "end_time": "2021-03-30T15:37:08.482174Z",
     "start_time": "2021-03-30T15:37:06.126Z"
    },
    "code_folding": [
     0
    ]
   },
   "outputs": [],
   "source": [
    "# CLIENT_ID = 'c7d6a5303acf47a99dacc2ac728ae4b0'\n",
    "# CLIENT_SECRET = 'e7698c7069ab403f8b59c8a4719f8467'\n",
    "# AUTH_URL = 'https://accounts.spotify.com/api/token'\n",
    "# # POST\n",
    "# auth_response = requests.post(AUTH_URL, {\n",
    "#     'grant_type': 'client_credentials',\n",
    "#     'client_id': CLIENT_ID,\n",
    "#     'client_secret': CLIENT_SECRET,\n",
    "# })\n",
    "# auth_response_data = auth_response.json()\n",
    "# # save the access token\n",
    "# access_token = auth_response_data['access_token']\n",
    "# headers = {'Authorization': f'Bearer {access_token}'}\n",
    "\n",
    "# track_id = '6y0igZArWVi6Iz0rj35c1Y'\n",
    "# request = f'https://api.spotify.com/v1/tracks/{track_id}'\n",
    "\n",
    "# response = requests.get(request, headers=headers)\n",
    "# response = response.json()\n",
    "# print(response)"
   ]
  },
  {
   "cell_type": "code",
   "execution_count": 146,
   "metadata": {
    "ExecuteTime": {
     "end_time": "2021-03-30T19:11:40.385662Z",
     "start_time": "2021-03-30T19:11:40.027157Z"
    },
    "code_folding": [
     0
    ],
    "collapsed": true
   },
   "outputs": [
    {
     "name": "stdout",
     "output_type": "stream",
     "text": [
      "env: SPOTIPY_CLIENT_ID=365f1df0becc4069ab821f255250e97a\n",
      "env: SPOTIPY_CLIENT_SECRET=61aa6e153f314cb2959b1de5ceca6a1b\n"
     ]
    },
    {
     "data": {
      "text/plain": [
       "4"
      ]
     },
     "execution_count": 146,
     "metadata": {},
     "output_type": "execute_result"
    }
   ],
   "source": [
    "# api trials\n",
    "# import spotipy\n",
    "# from spotipy.oauth2 import SpotifyClientCredentials\n",
    "\n",
    "# %env SPOTIPY_CLIENT_ID=365f1df0becc4069ab821f255250e97a\n",
    "# %env SPOTIPY_CLIENT_SECRET=61aa6e153f314cb2959b1de5ceca6a1b\n",
    "\n",
    "# auth_manager = SpotifyClientCredentials()\n",
    "# sp = spotipy.Spotify(auth_manager=auth_manager)\n",
    "\n",
    "# first_ex = sp.audio_features(tracks=['19Lc5SfJJ5O1oaxY0fpwfh'])\n",
    "# first_ex[0]['time_signature']\n",
    "\n",
    "# data['time_signature'] = np.nan\n",
    "# ids = data.id.values.tolist()\n",
    "# timesigs = []\n",
    "# for track_id in ids:\n",
    "#     timesig = sp.audio_features(track_id)[0]['time_signature']\n",
    "#     timesigs.append(timesig)"
   ]
  }
 ],
 "metadata": {
  "colab": {
   "collapsed_sections": [],
   "name": "Example.ipynb",
   "provenance": []
  },
  "kernelspec": {
   "display_name": "Python 3",
   "language": "python",
   "name": "python3"
  },
  "language_info": {
   "codemirror_mode": {
    "name": "ipython",
    "version": 3
   },
   "file_extension": ".py",
   "mimetype": "text/x-python",
   "name": "python",
   "nbconvert_exporter": "python",
   "pygments_lexer": "ipython3",
   "version": "3.9.1"
  }
 },
 "nbformat": 4,
 "nbformat_minor": 1
}
