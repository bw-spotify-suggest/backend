{
 "cells": [
  {
   "cell_type": "code",
   "execution_count": 31,
   "metadata": {
    "ExecuteTime": {
     "end_time": "2021-03-29T20:31:54.380850Z",
     "start_time": "2021-03-29T20:31:54.370848Z"
    },
    "colab": {},
    "colab_type": "code",
    "id": "Pr5hpnCv5qnZ"
   },
   "outputs": [],
   "source": [
    "from sklearn.neighbors import NearestNeighbors, NeighborhoodComponentsAnalysis\n",
    "import pandas as pd\n",
    "import numpy as np\n",
    "import pickle"
   ]
  },
  {
   "cell_type": "code",
   "execution_count": 41,
   "metadata": {
    "ExecuteTime": {
     "end_time": "2021-03-29T20:32:19.588407Z",
     "start_time": "2021-03-29T20:32:19.577963Z"
    },
    "colab": {},
    "colab_type": "code",
    "id": "SSyUJuJ35vtP"
   },
   "outputs": [],
   "source": [
    "def load_clean_data():\n",
    "    \"\"\"\n",
    "    Loads data and performs basic data cleaning and normalization.\n",
    "    Returns one raw-data DataFrame, and one model-ready DataFrame.\n",
    "    \n",
    "    Example\n",
    "    -------\n",
    "    > raw, clean = load_clean_data()\n",
    "    > type(raw), raw.shape, type(clean), df.clean\n",
    "      (pandas.core.frame.DataFrame,\n",
    "      (130326, 17),\n",
    "      pandas.core.frame.DataFrame,\n",
    "      (130326, 15))\n",
    "    \"\"\"\n",
    "    data = pd.read_csv(\"Data/spotify2019.csv\")\n",
    "    data = data[~data.track_id.duplicated(keep='first')]\n",
    "\n",
    "    df = data.drop(columns=['artist_name','track_name'])\n",
    "\n",
    "    num_cols = ['acousticness', 'danceability', 'duration_ms', 'energy', \n",
    "                'instrumentalness', 'key', 'liveness', 'loudness', 'mode', \n",
    "                'speechiness', 'tempo', 'time_signature', 'valence', 'popularity']\n",
    "\n",
    "    for i in num_cols:\n",
    "        df[i] = df[i] / np.abs(df[i]).max()\n",
    "\n",
    "    return data, df\n",
    "\n",
    "def suggest(song_id=None, n_suggestions=1, output_format='records'):\n",
    "    \"\"\"\n",
    "    Suggests Spotify song(s) given one song id.\n",
    "    \n",
    "    Parameters\n",
    "    ----------\n",
    "    song_id: str\n",
    "        Song id from which to base suggestions\n",
    "    \n",
    "    n_suggestions: int {1, 3, 5, 10, 15, 20}, default 1\n",
    "        Number of songs to suggest\n",
    "\n",
    "    output_format: str, default 'records'\n",
    "        Output format of the JSON string:\n",
    "            ‘split’ : dict like {‘index’ -> [index], ‘columns’ -> [columns], ‘data’ -> [values]}\n",
    "            ‘records’ : list like [{column -> value}, … , {column -> value}]\n",
    "            ‘index’ : dict like {index -> {column -> value}}\n",
    "            ‘columns’ : dict like {column -> {index -> value}}\n",
    "            ‘values’ : just the values array\n",
    "            ‘table’ : dict like {‘schema’: {schema}, ‘data’: {data}}\n",
    "        Note: Directly passed to pandas.DataFrame.to_json(orient=output_format) \n",
    "    \n",
    "    Example\n",
    "    -------\n",
    "    > example = df[df.track_id == '6Wosx2euFPMT14UXiWudMy']\n",
    "    > example.artist_name\n",
    "      R3HAB\n",
    "    > example.track_name\n",
    "      Radio Silence\n",
    "    > suggestion = suggest('6Wosx2euFPMT14UXiWudMy')\n",
    "    > suggestion\n",
    "      '[{\"artist_name\":\"Anderson .Paak\",\n",
    "         \"track_id\":\"7GvKDZP30uHX0p8y3Kn6BM\",\n",
    "         \"track_name\":\"Brother\\'s Keeper (feat. Pusha T)\"}]'\n",
    "    \"\"\"\n",
    "    song = np.array(df[df.track_id == song_id].drop(columns='track_id'))\n",
    "\n",
    "    loaded_model = pickle.load(open(f'./Data/model_{n_suggestions}_suggestions.sav', 'rb'))\n",
    "\n",
    "    output = data.iloc[loaded_model.kneighbors(song)[1][0][1:]]\n",
    "\n",
    "    drop_cols = ['acousticness', 'danceability', 'duration_ms', 'energy', \n",
    "                 'instrumentalness', 'key', 'liveness', 'loudness', 'mode', \n",
    "                 'speechiness', 'tempo', 'time_signature', 'valence', 'popularity']\n",
    "    \n",
    "    suggestion = output.drop(columns = drop_cols).to_json(orient=output_format)\n",
    "\n",
    "    return suggestion"
   ]
  },
  {
   "cell_type": "code",
   "execution_count": 42,
   "metadata": {
    "ExecuteTime": {
     "end_time": "2021-03-29T20:32:20.703070Z",
     "start_time": "2021-03-29T20:32:20.105933Z"
    }
   },
   "outputs": [],
   "source": [
    "data, df = load_clean_data()"
   ]
  },
  {
   "cell_type": "code",
   "execution_count": 43,
   "metadata": {
    "ExecuteTime": {
     "end_time": "2021-03-29T20:32:20.748942Z",
     "start_time": "2021-03-29T20:32:20.705663Z"
    }
   },
   "outputs": [
    {
     "ename": "FileNotFoundError",
     "evalue": "[Errno 2] No such file or directory: './Data/model_3_suggestions.sav'",
     "output_type": "error",
     "traceback": [
      "\u001b[0;31m---------------------------------------------------------------------------\u001b[0m",
      "\u001b[0;31mFileNotFoundError\u001b[0m                         Traceback (most recent call last)",
      "\u001b[0;32m<ipython-input-43-16975fed98b7>\u001b[0m in \u001b[0;36m<module>\u001b[0;34m\u001b[0m\n\u001b[0;32m----> 1\u001b[0;31m \u001b[0msuggest\u001b[0m\u001b[0;34m(\u001b[0m\u001b[0;34m'6Wosx2euFPMT14UXiWudMy'\u001b[0m\u001b[0;34m,\u001b[0m \u001b[0;36m3\u001b[0m\u001b[0;34m)\u001b[0m\u001b[0;34m\u001b[0m\u001b[0;34m\u001b[0m\u001b[0m\n\u001b[0m",
      "\u001b[0;32m<ipython-input-41-c4dc016628e9>\u001b[0m in \u001b[0;36msuggest\u001b[0;34m(song_id, n_suggestions, output_format)\u001b[0m\n\u001b[1;32m     64\u001b[0m     \u001b[0msong\u001b[0m \u001b[0;34m=\u001b[0m \u001b[0mnp\u001b[0m\u001b[0;34m.\u001b[0m\u001b[0marray\u001b[0m\u001b[0;34m(\u001b[0m\u001b[0mdf\u001b[0m\u001b[0;34m[\u001b[0m\u001b[0mdf\u001b[0m\u001b[0;34m.\u001b[0m\u001b[0mtrack_id\u001b[0m \u001b[0;34m==\u001b[0m \u001b[0msong_id\u001b[0m\u001b[0;34m]\u001b[0m\u001b[0;34m.\u001b[0m\u001b[0mdrop\u001b[0m\u001b[0;34m(\u001b[0m\u001b[0mcolumns\u001b[0m\u001b[0;34m=\u001b[0m\u001b[0;34m'track_id'\u001b[0m\u001b[0;34m)\u001b[0m\u001b[0;34m)\u001b[0m\u001b[0;34m\u001b[0m\u001b[0;34m\u001b[0m\u001b[0m\n\u001b[1;32m     65\u001b[0m \u001b[0;34m\u001b[0m\u001b[0m\n\u001b[0;32m---> 66\u001b[0;31m     \u001b[0mloaded_model\u001b[0m \u001b[0;34m=\u001b[0m \u001b[0mpickle\u001b[0m\u001b[0;34m.\u001b[0m\u001b[0mload\u001b[0m\u001b[0;34m(\u001b[0m\u001b[0mopen\u001b[0m\u001b[0;34m(\u001b[0m\u001b[0;34mf'./Data/model_{n_suggestions}_suggestions.sav'\u001b[0m\u001b[0;34m,\u001b[0m \u001b[0;34m'rb'\u001b[0m\u001b[0;34m)\u001b[0m\u001b[0;34m)\u001b[0m\u001b[0;34m\u001b[0m\u001b[0;34m\u001b[0m\u001b[0m\n\u001b[0m\u001b[1;32m     67\u001b[0m \u001b[0;34m\u001b[0m\u001b[0m\n\u001b[1;32m     68\u001b[0m     \u001b[0moutput\u001b[0m \u001b[0;34m=\u001b[0m \u001b[0mdata\u001b[0m\u001b[0;34m.\u001b[0m\u001b[0miloc\u001b[0m\u001b[0;34m[\u001b[0m\u001b[0mloaded_model\u001b[0m\u001b[0;34m.\u001b[0m\u001b[0mkneighbors\u001b[0m\u001b[0;34m(\u001b[0m\u001b[0msong\u001b[0m\u001b[0;34m)\u001b[0m\u001b[0;34m[\u001b[0m\u001b[0;36m1\u001b[0m\u001b[0;34m]\u001b[0m\u001b[0;34m[\u001b[0m\u001b[0;36m0\u001b[0m\u001b[0;34m]\u001b[0m\u001b[0;34m[\u001b[0m\u001b[0;36m1\u001b[0m\u001b[0;34m:\u001b[0m\u001b[0;34m]\u001b[0m\u001b[0;34m]\u001b[0m\u001b[0;34m\u001b[0m\u001b[0;34m\u001b[0m\u001b[0m\n",
      "\u001b[0;31mFileNotFoundError\u001b[0m: [Errno 2] No such file or directory: './Data/model_3_suggestions.sav'"
     ]
    }
   ],
   "source": [
    "suggest('6Wosx2euFPMT14UXiWudMy', 3)"
   ]
  },
  {
   "cell_type": "code",
   "execution_count": null,
   "metadata": {},
   "outputs": [],
   "source": []
  }
 ],
 "metadata": {
  "colab": {
   "collapsed_sections": [],
   "name": "Example.ipynb",
   "provenance": []
  },
  "kernelspec": {
   "display_name": "Python 3",
   "language": "python",
   "name": "python3"
  },
  "language_info": {
   "codemirror_mode": {
    "name": "ipython",
    "version": 3
   },
   "file_extension": ".py",
   "mimetype": "text/x-python",
   "name": "python",
   "nbconvert_exporter": "python",
   "pygments_lexer": "ipython3",
   "version": "3.9.1"
  }
 },
 "nbformat": 4,
 "nbformat_minor": 1
}
